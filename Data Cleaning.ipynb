{
 "cells": [
  {
   "cell_type": "markdown",
   "metadata": {},
   "source": [
    "Handling Missing Values"
   ]
  },
  {
   "cell_type": "code",
   "execution_count": 2,
   "metadata": {},
   "outputs": [],
   "source": [
    "import pandas as pd\n",
    "import numpy as np"
   ]
  },
  {
   "cell_type": "code",
   "execution_count": 3,
   "metadata": {},
   "outputs": [],
   "source": [
    "float_data = pd.Series([1.2, -3.5, np.nan, 0])"
   ]
  },
  {
   "cell_type": "code",
   "execution_count": 4,
   "metadata": {},
   "outputs": [
    {
     "data": {
      "text/plain": [
       "0    False\n",
       "1    False\n",
       "2     True\n",
       "3    False\n",
       "dtype: bool"
      ]
     },
     "execution_count": 4,
     "metadata": {},
     "output_type": "execute_result"
    }
   ],
   "source": [
    "float_data.isna()#python's None is also treated as NaN"
   ]
  },
  {
   "cell_type": "code",
   "execution_count": 5,
   "metadata": {},
   "outputs": [
    {
     "data": {
      "text/plain": [
       "0     True\n",
       "1     True\n",
       "2    False\n",
       "3     True\n",
       "dtype: bool"
      ]
     },
     "execution_count": 5,
     "metadata": {},
     "output_type": "execute_result"
    }
   ],
   "source": [
    "float_data.notna()"
   ]
  },
  {
   "cell_type": "code",
   "execution_count": 6,
   "metadata": {},
   "outputs": [
    {
     "data": {
      "text/plain": [
       "0    1.2\n",
       "1   -3.5\n",
       "2    0.0\n",
       "3    0.0\n",
       "dtype: float64"
      ]
     },
     "execution_count": 6,
     "metadata": {},
     "output_type": "execute_result"
    }
   ],
   "source": [
    "float_data.fillna(0)"
   ]
  },
  {
   "cell_type": "markdown",
   "metadata": {},
   "source": [
    "Filtering Out Missing Data"
   ]
  },
  {
   "cell_type": "code",
   "execution_count": 7,
   "metadata": {},
   "outputs": [],
   "source": [
    "data = pd.Series([1, np.nan, 3.5, np.nan, 7])"
   ]
  },
  {
   "cell_type": "code",
   "execution_count": 8,
   "metadata": {},
   "outputs": [
    {
     "data": {
      "text/plain": [
       "0    1.0\n",
       "2    3.5\n",
       "4    7.0\n",
       "dtype: float64"
      ]
     },
     "execution_count": 8,
     "metadata": {},
     "output_type": "execute_result"
    }
   ],
   "source": [
    "data.dropna()"
   ]
  },
  {
   "cell_type": "code",
   "execution_count": 9,
   "metadata": {},
   "outputs": [
    {
     "data": {
      "text/plain": [
       "0    1.0\n",
       "2    3.5\n",
       "4    7.0\n",
       "dtype: float64"
      ]
     },
     "execution_count": 9,
     "metadata": {},
     "output_type": "execute_result"
    }
   ],
   "source": [
    "data[data.notna()]"
   ]
  },
  {
   "cell_type": "code",
   "execution_count": 10,
   "metadata": {},
   "outputs": [],
   "source": [
    "data = pd.DataFrame([[1., 6.5, 3.], [1., np.nan, np.nan],\n",
    "            [np.nan, np.nan, np.nan], [np.nan, 6.5, 3.]])"
   ]
  },
  {
   "cell_type": "code",
   "execution_count": 11,
   "metadata": {},
   "outputs": [
    {
     "data": {
      "text/html": [
       "<div>\n",
       "<style scoped>\n",
       "    .dataframe tbody tr th:only-of-type {\n",
       "        vertical-align: middle;\n",
       "    }\n",
       "\n",
       "    .dataframe tbody tr th {\n",
       "        vertical-align: top;\n",
       "    }\n",
       "\n",
       "    .dataframe thead th {\n",
       "        text-align: right;\n",
       "    }\n",
       "</style>\n",
       "<table border=\"1\" class=\"dataframe\">\n",
       "  <thead>\n",
       "    <tr style=\"text-align: right;\">\n",
       "      <th></th>\n",
       "      <th>0</th>\n",
       "      <th>1</th>\n",
       "      <th>2</th>\n",
       "    </tr>\n",
       "  </thead>\n",
       "  <tbody>\n",
       "    <tr>\n",
       "      <th>0</th>\n",
       "      <td>1.0</td>\n",
       "      <td>6.5</td>\n",
       "      <td>3.0</td>\n",
       "    </tr>\n",
       "    <tr>\n",
       "      <th>1</th>\n",
       "      <td>1.0</td>\n",
       "      <td>NaN</td>\n",
       "      <td>NaN</td>\n",
       "    </tr>\n",
       "    <tr>\n",
       "      <th>2</th>\n",
       "      <td>NaN</td>\n",
       "      <td>NaN</td>\n",
       "      <td>NaN</td>\n",
       "    </tr>\n",
       "    <tr>\n",
       "      <th>3</th>\n",
       "      <td>NaN</td>\n",
       "      <td>6.5</td>\n",
       "      <td>3.0</td>\n",
       "    </tr>\n",
       "  </tbody>\n",
       "</table>\n",
       "</div>"
      ],
      "text/plain": [
       "     0    1    2\n",
       "0  1.0  6.5  3.0\n",
       "1  1.0  NaN  NaN\n",
       "2  NaN  NaN  NaN\n",
       "3  NaN  6.5  3.0"
      ]
     },
     "execution_count": 11,
     "metadata": {},
     "output_type": "execute_result"
    }
   ],
   "source": [
    "data"
   ]
  },
  {
   "cell_type": "code",
   "execution_count": 12,
   "metadata": {},
   "outputs": [
    {
     "data": {
      "text/html": [
       "<div>\n",
       "<style scoped>\n",
       "    .dataframe tbody tr th:only-of-type {\n",
       "        vertical-align: middle;\n",
       "    }\n",
       "\n",
       "    .dataframe tbody tr th {\n",
       "        vertical-align: top;\n",
       "    }\n",
       "\n",
       "    .dataframe thead th {\n",
       "        text-align: right;\n",
       "    }\n",
       "</style>\n",
       "<table border=\"1\" class=\"dataframe\">\n",
       "  <thead>\n",
       "    <tr style=\"text-align: right;\">\n",
       "      <th></th>\n",
       "      <th>0</th>\n",
       "      <th>1</th>\n",
       "      <th>2</th>\n",
       "    </tr>\n",
       "  </thead>\n",
       "  <tbody>\n",
       "    <tr>\n",
       "      <th>0</th>\n",
       "      <td>1.0</td>\n",
       "      <td>6.5</td>\n",
       "      <td>3.0</td>\n",
       "    </tr>\n",
       "  </tbody>\n",
       "</table>\n",
       "</div>"
      ],
      "text/plain": [
       "     0    1    2\n",
       "0  1.0  6.5  3.0"
      ]
     },
     "execution_count": 12,
     "metadata": {},
     "output_type": "execute_result"
    }
   ],
   "source": [
    "data.dropna()#drops any row containing NaN values"
   ]
  },
  {
   "cell_type": "code",
   "execution_count": 13,
   "metadata": {},
   "outputs": [
    {
     "data": {
      "text/html": [
       "<div>\n",
       "<style scoped>\n",
       "    .dataframe tbody tr th:only-of-type {\n",
       "        vertical-align: middle;\n",
       "    }\n",
       "\n",
       "    .dataframe tbody tr th {\n",
       "        vertical-align: top;\n",
       "    }\n",
       "\n",
       "    .dataframe thead th {\n",
       "        text-align: right;\n",
       "    }\n",
       "</style>\n",
       "<table border=\"1\" class=\"dataframe\">\n",
       "  <thead>\n",
       "    <tr style=\"text-align: right;\">\n",
       "      <th></th>\n",
       "      <th>0</th>\n",
       "      <th>1</th>\n",
       "      <th>2</th>\n",
       "    </tr>\n",
       "  </thead>\n",
       "  <tbody>\n",
       "    <tr>\n",
       "      <th>0</th>\n",
       "      <td>1.0</td>\n",
       "      <td>6.5</td>\n",
       "      <td>3.0</td>\n",
       "    </tr>\n",
       "    <tr>\n",
       "      <th>1</th>\n",
       "      <td>1.0</td>\n",
       "      <td>NaN</td>\n",
       "      <td>NaN</td>\n",
       "    </tr>\n",
       "    <tr>\n",
       "      <th>3</th>\n",
       "      <td>NaN</td>\n",
       "      <td>6.5</td>\n",
       "      <td>3.0</td>\n",
       "    </tr>\n",
       "  </tbody>\n",
       "</table>\n",
       "</div>"
      ],
      "text/plain": [
       "     0    1    2\n",
       "0  1.0  6.5  3.0\n",
       "1  1.0  NaN  NaN\n",
       "3  NaN  6.5  3.0"
      ]
     },
     "execution_count": 13,
     "metadata": {},
     "output_type": "execute_result"
    }
   ],
   "source": [
    "data.dropna(how=\"all\")\n",
    "#drop rows if the entire rwo contains NaN's"
   ]
  },
  {
   "cell_type": "code",
   "execution_count": 14,
   "metadata": {},
   "outputs": [
    {
     "data": {
      "text/html": [
       "<div>\n",
       "<style scoped>\n",
       "    .dataframe tbody tr th:only-of-type {\n",
       "        vertical-align: middle;\n",
       "    }\n",
       "\n",
       "    .dataframe tbody tr th {\n",
       "        vertical-align: top;\n",
       "    }\n",
       "\n",
       "    .dataframe thead th {\n",
       "        text-align: right;\n",
       "    }\n",
       "</style>\n",
       "<table border=\"1\" class=\"dataframe\">\n",
       "  <thead>\n",
       "    <tr style=\"text-align: right;\">\n",
       "      <th></th>\n",
       "    </tr>\n",
       "  </thead>\n",
       "  <tbody>\n",
       "    <tr>\n",
       "      <th>0</th>\n",
       "    </tr>\n",
       "    <tr>\n",
       "      <th>1</th>\n",
       "    </tr>\n",
       "    <tr>\n",
       "      <th>2</th>\n",
       "    </tr>\n",
       "    <tr>\n",
       "      <th>3</th>\n",
       "    </tr>\n",
       "  </tbody>\n",
       "</table>\n",
       "</div>"
      ],
      "text/plain": [
       "Empty DataFrame\n",
       "Columns: []\n",
       "Index: [0, 1, 2, 3]"
      ]
     },
     "execution_count": 14,
     "metadata": {},
     "output_type": "execute_result"
    }
   ],
   "source": [
    "data.dropna(axis=\"columns\")#drop column if the column contains even a single NaN value\n",
    "#columns dropping"
   ]
  },
  {
   "cell_type": "markdown",
   "metadata": {},
   "source": [
    "Filling In Missing Data"
   ]
  },
  {
   "cell_type": "code",
   "execution_count": 15,
   "metadata": {},
   "outputs": [
    {
     "data": {
      "text/html": [
       "<div>\n",
       "<style scoped>\n",
       "    .dataframe tbody tr th:only-of-type {\n",
       "        vertical-align: middle;\n",
       "    }\n",
       "\n",
       "    .dataframe tbody tr th {\n",
       "        vertical-align: top;\n",
       "    }\n",
       "\n",
       "    .dataframe thead th {\n",
       "        text-align: right;\n",
       "    }\n",
       "</style>\n",
       "<table border=\"1\" class=\"dataframe\">\n",
       "  <thead>\n",
       "    <tr style=\"text-align: right;\">\n",
       "      <th></th>\n",
       "      <th>0</th>\n",
       "      <th>1</th>\n",
       "      <th>2</th>\n",
       "    </tr>\n",
       "  </thead>\n",
       "  <tbody>\n",
       "    <tr>\n",
       "      <th>0</th>\n",
       "      <td>1.0</td>\n",
       "      <td>6.5</td>\n",
       "      <td>3.0</td>\n",
       "    </tr>\n",
       "    <tr>\n",
       "      <th>1</th>\n",
       "      <td>1.0</td>\n",
       "      <td>0.0</td>\n",
       "      <td>0.0</td>\n",
       "    </tr>\n",
       "    <tr>\n",
       "      <th>2</th>\n",
       "      <td>0.0</td>\n",
       "      <td>0.0</td>\n",
       "      <td>0.0</td>\n",
       "    </tr>\n",
       "    <tr>\n",
       "      <th>3</th>\n",
       "      <td>0.0</td>\n",
       "      <td>6.5</td>\n",
       "      <td>3.0</td>\n",
       "    </tr>\n",
       "  </tbody>\n",
       "</table>\n",
       "</div>"
      ],
      "text/plain": [
       "     0    1    2\n",
       "0  1.0  6.5  3.0\n",
       "1  1.0  0.0  0.0\n",
       "2  0.0  0.0  0.0\n",
       "3  0.0  6.5  3.0"
      ]
     },
     "execution_count": 15,
     "metadata": {},
     "output_type": "execute_result"
    }
   ],
   "source": [
    "data.fillna(0)"
   ]
  },
  {
   "cell_type": "code",
   "execution_count": 16,
   "metadata": {},
   "outputs": [
    {
     "data": {
      "text/html": [
       "<div>\n",
       "<style scoped>\n",
       "    .dataframe tbody tr th:only-of-type {\n",
       "        vertical-align: middle;\n",
       "    }\n",
       "\n",
       "    .dataframe tbody tr th {\n",
       "        vertical-align: top;\n",
       "    }\n",
       "\n",
       "    .dataframe thead th {\n",
       "        text-align: right;\n",
       "    }\n",
       "</style>\n",
       "<table border=\"1\" class=\"dataframe\">\n",
       "  <thead>\n",
       "    <tr style=\"text-align: right;\">\n",
       "      <th></th>\n",
       "      <th>0</th>\n",
       "      <th>1</th>\n",
       "      <th>2</th>\n",
       "    </tr>\n",
       "  </thead>\n",
       "  <tbody>\n",
       "    <tr>\n",
       "      <th>0</th>\n",
       "      <td>1.0</td>\n",
       "      <td>6.5</td>\n",
       "      <td>3.0</td>\n",
       "    </tr>\n",
       "    <tr>\n",
       "      <th>1</th>\n",
       "      <td>1.0</td>\n",
       "      <td>0.5</td>\n",
       "      <td>0.0</td>\n",
       "    </tr>\n",
       "    <tr>\n",
       "      <th>2</th>\n",
       "      <td>NaN</td>\n",
       "      <td>0.5</td>\n",
       "      <td>0.0</td>\n",
       "    </tr>\n",
       "    <tr>\n",
       "      <th>3</th>\n",
       "      <td>NaN</td>\n",
       "      <td>6.5</td>\n",
       "      <td>3.0</td>\n",
       "    </tr>\n",
       "  </tbody>\n",
       "</table>\n",
       "</div>"
      ],
      "text/plain": [
       "     0    1    2\n",
       "0  1.0  6.5  3.0\n",
       "1  1.0  0.5  0.0\n",
       "2  NaN  0.5  0.0\n",
       "3  NaN  6.5  3.0"
      ]
     },
     "execution_count": 16,
     "metadata": {},
     "output_type": "execute_result"
    }
   ],
   "source": [
    "data.fillna({1: 0.5, 2: 0})\n",
    "#calling fillna() with a dictionary means we can fill each column with different values"
   ]
  },
  {
   "cell_type": "markdown",
   "metadata": {},
   "source": [
    "Removing Duplicates"
   ]
  },
  {
   "cell_type": "code",
   "execution_count": 17,
   "metadata": {},
   "outputs": [],
   "source": [
    "data = pd.DataFrame({\"k1\": [\"one\", \"two\"] * 3 + [\"two\"],\n",
    "                      \"k2\": [1, 1, 2, 3, 3, 4, 4]})"
   ]
  },
  {
   "cell_type": "code",
   "execution_count": 18,
   "metadata": {},
   "outputs": [
    {
     "data": {
      "text/html": [
       "<div>\n",
       "<style scoped>\n",
       "    .dataframe tbody tr th:only-of-type {\n",
       "        vertical-align: middle;\n",
       "    }\n",
       "\n",
       "    .dataframe tbody tr th {\n",
       "        vertical-align: top;\n",
       "    }\n",
       "\n",
       "    .dataframe thead th {\n",
       "        text-align: right;\n",
       "    }\n",
       "</style>\n",
       "<table border=\"1\" class=\"dataframe\">\n",
       "  <thead>\n",
       "    <tr style=\"text-align: right;\">\n",
       "      <th></th>\n",
       "      <th>k1</th>\n",
       "      <th>k2</th>\n",
       "    </tr>\n",
       "  </thead>\n",
       "  <tbody>\n",
       "    <tr>\n",
       "      <th>0</th>\n",
       "      <td>one</td>\n",
       "      <td>1</td>\n",
       "    </tr>\n",
       "    <tr>\n",
       "      <th>1</th>\n",
       "      <td>two</td>\n",
       "      <td>1</td>\n",
       "    </tr>\n",
       "    <tr>\n",
       "      <th>2</th>\n",
       "      <td>one</td>\n",
       "      <td>2</td>\n",
       "    </tr>\n",
       "    <tr>\n",
       "      <th>3</th>\n",
       "      <td>two</td>\n",
       "      <td>3</td>\n",
       "    </tr>\n",
       "    <tr>\n",
       "      <th>4</th>\n",
       "      <td>one</td>\n",
       "      <td>3</td>\n",
       "    </tr>\n",
       "    <tr>\n",
       "      <th>5</th>\n",
       "      <td>two</td>\n",
       "      <td>4</td>\n",
       "    </tr>\n",
       "    <tr>\n",
       "      <th>6</th>\n",
       "      <td>two</td>\n",
       "      <td>4</td>\n",
       "    </tr>\n",
       "  </tbody>\n",
       "</table>\n",
       "</div>"
      ],
      "text/plain": [
       "    k1  k2\n",
       "0  one   1\n",
       "1  two   1\n",
       "2  one   2\n",
       "3  two   3\n",
       "4  one   3\n",
       "5  two   4\n",
       "6  two   4"
      ]
     },
     "execution_count": 18,
     "metadata": {},
     "output_type": "execute_result"
    }
   ],
   "source": [
    "data"
   ]
  },
  {
   "cell_type": "code",
   "execution_count": 19,
   "metadata": {},
   "outputs": [
    {
     "data": {
      "text/plain": [
       "0    False\n",
       "1    False\n",
       "2    False\n",
       "3    False\n",
       "4    False\n",
       "5    False\n",
       "6     True\n",
       "dtype: bool"
      ]
     },
     "execution_count": 19,
     "metadata": {},
     "output_type": "execute_result"
    }
   ],
   "source": [
    "data.duplicated()\n",
    "#returns a boolean series indicating whether is  duplicated or not\n",
    "#5th and 6th rows are duplicates"
   ]
  },
  {
   "cell_type": "code",
   "execution_count": 20,
   "metadata": {},
   "outputs": [
    {
     "data": {
      "text/html": [
       "<div>\n",
       "<style scoped>\n",
       "    .dataframe tbody tr th:only-of-type {\n",
       "        vertical-align: middle;\n",
       "    }\n",
       "\n",
       "    .dataframe tbody tr th {\n",
       "        vertical-align: top;\n",
       "    }\n",
       "\n",
       "    .dataframe thead th {\n",
       "        text-align: right;\n",
       "    }\n",
       "</style>\n",
       "<table border=\"1\" class=\"dataframe\">\n",
       "  <thead>\n",
       "    <tr style=\"text-align: right;\">\n",
       "      <th></th>\n",
       "      <th>k1</th>\n",
       "      <th>k2</th>\n",
       "    </tr>\n",
       "  </thead>\n",
       "  <tbody>\n",
       "    <tr>\n",
       "      <th>0</th>\n",
       "      <td>one</td>\n",
       "      <td>1</td>\n",
       "    </tr>\n",
       "    <tr>\n",
       "      <th>1</th>\n",
       "      <td>two</td>\n",
       "      <td>1</td>\n",
       "    </tr>\n",
       "    <tr>\n",
       "      <th>2</th>\n",
       "      <td>one</td>\n",
       "      <td>2</td>\n",
       "    </tr>\n",
       "    <tr>\n",
       "      <th>3</th>\n",
       "      <td>two</td>\n",
       "      <td>3</td>\n",
       "    </tr>\n",
       "    <tr>\n",
       "      <th>4</th>\n",
       "      <td>one</td>\n",
       "      <td>3</td>\n",
       "    </tr>\n",
       "    <tr>\n",
       "      <th>5</th>\n",
       "      <td>two</td>\n",
       "      <td>4</td>\n",
       "    </tr>\n",
       "  </tbody>\n",
       "</table>\n",
       "</div>"
      ],
      "text/plain": [
       "    k1  k2\n",
       "0  one   1\n",
       "1  two   1\n",
       "2  one   2\n",
       "3  two   3\n",
       "4  one   3\n",
       "5  two   4"
      ]
     },
     "execution_count": 20,
     "metadata": {},
     "output_type": "execute_result"
    }
   ],
   "source": [
    "data.drop_duplicates()"
   ]
  },
  {
   "cell_type": "markdown",
   "metadata": {},
   "source": [
    " Transforming Data Using a Function or Mapping\n"
   ]
  },
  {
   "cell_type": "code",
   "execution_count": 21,
   "metadata": {},
   "outputs": [],
   "source": [
    "data = pd.DataFrame({\"food\": [\"bacon\", \"pulled pork\", \"bacon\",                               \n",
    "\"pastrami\", \"corned beef\", \"bacon\",\n",
    "     \n",
    "\"pastrami\", \"honey ham\", \"nova lox\"],\n",
    " \"ounces\": [4, 3, 12, 6, 7.5, 8, 3, 5, 6]})"
   ]
  },
  {
   "cell_type": "code",
   "execution_count": 22,
   "metadata": {},
   "outputs": [
    {
     "data": {
      "text/html": [
       "<div>\n",
       "<style scoped>\n",
       "    .dataframe tbody tr th:only-of-type {\n",
       "        vertical-align: middle;\n",
       "    }\n",
       "\n",
       "    .dataframe tbody tr th {\n",
       "        vertical-align: top;\n",
       "    }\n",
       "\n",
       "    .dataframe thead th {\n",
       "        text-align: right;\n",
       "    }\n",
       "</style>\n",
       "<table border=\"1\" class=\"dataframe\">\n",
       "  <thead>\n",
       "    <tr style=\"text-align: right;\">\n",
       "      <th></th>\n",
       "      <th>food</th>\n",
       "      <th>ounces</th>\n",
       "    </tr>\n",
       "  </thead>\n",
       "  <tbody>\n",
       "    <tr>\n",
       "      <th>0</th>\n",
       "      <td>bacon</td>\n",
       "      <td>4.0</td>\n",
       "    </tr>\n",
       "    <tr>\n",
       "      <th>1</th>\n",
       "      <td>pulled pork</td>\n",
       "      <td>3.0</td>\n",
       "    </tr>\n",
       "    <tr>\n",
       "      <th>2</th>\n",
       "      <td>bacon</td>\n",
       "      <td>12.0</td>\n",
       "    </tr>\n",
       "    <tr>\n",
       "      <th>3</th>\n",
       "      <td>pastrami</td>\n",
       "      <td>6.0</td>\n",
       "    </tr>\n",
       "    <tr>\n",
       "      <th>4</th>\n",
       "      <td>corned beef</td>\n",
       "      <td>7.5</td>\n",
       "    </tr>\n",
       "    <tr>\n",
       "      <th>5</th>\n",
       "      <td>bacon</td>\n",
       "      <td>8.0</td>\n",
       "    </tr>\n",
       "    <tr>\n",
       "      <th>6</th>\n",
       "      <td>pastrami</td>\n",
       "      <td>3.0</td>\n",
       "    </tr>\n",
       "    <tr>\n",
       "      <th>7</th>\n",
       "      <td>honey ham</td>\n",
       "      <td>5.0</td>\n",
       "    </tr>\n",
       "    <tr>\n",
       "      <th>8</th>\n",
       "      <td>nova lox</td>\n",
       "      <td>6.0</td>\n",
       "    </tr>\n",
       "  </tbody>\n",
       "</table>\n",
       "</div>"
      ],
      "text/plain": [
       "          food  ounces\n",
       "0        bacon     4.0\n",
       "1  pulled pork     3.0\n",
       "2        bacon    12.0\n",
       "3     pastrami     6.0\n",
       "4  corned beef     7.5\n",
       "5        bacon     8.0\n",
       "6     pastrami     3.0\n",
       "7    honey ham     5.0\n",
       "8     nova lox     6.0"
      ]
     },
     "execution_count": 22,
     "metadata": {},
     "output_type": "execute_result"
    }
   ],
   "source": [
    "data"
   ]
  },
  {
   "cell_type": "code",
   "execution_count": 23,
   "metadata": {},
   "outputs": [],
   "source": [
    "meat_to_animal = {\n",
    " \"bacon\": \"pig\",\n",
    " \"pulled pork\": \"pig\",\n",
    " \"pastrami\": \"cow\",\n",
    " \"corned beef\": \"cow\",\n",
    " \"honey ham\": \"pig\",\n",
    " \"nova lox\": \"salmon\"\n",
    " }"
   ]
  },
  {
   "cell_type": "code",
   "execution_count": 24,
   "metadata": {},
   "outputs": [],
   "source": [
    "data[\"animal\"] = data[\"food\"].map(meat_to_animal)\n",
    "#map() accepts a function or dict"
   ]
  },
  {
   "cell_type": "code",
   "execution_count": 25,
   "metadata": {},
   "outputs": [
    {
     "data": {
      "text/html": [
       "<div>\n",
       "<style scoped>\n",
       "    .dataframe tbody tr th:only-of-type {\n",
       "        vertical-align: middle;\n",
       "    }\n",
       "\n",
       "    .dataframe tbody tr th {\n",
       "        vertical-align: top;\n",
       "    }\n",
       "\n",
       "    .dataframe thead th {\n",
       "        text-align: right;\n",
       "    }\n",
       "</style>\n",
       "<table border=\"1\" class=\"dataframe\">\n",
       "  <thead>\n",
       "    <tr style=\"text-align: right;\">\n",
       "      <th></th>\n",
       "      <th>food</th>\n",
       "      <th>ounces</th>\n",
       "      <th>animal</th>\n",
       "    </tr>\n",
       "  </thead>\n",
       "  <tbody>\n",
       "    <tr>\n",
       "      <th>0</th>\n",
       "      <td>bacon</td>\n",
       "      <td>4.0</td>\n",
       "      <td>pig</td>\n",
       "    </tr>\n",
       "    <tr>\n",
       "      <th>1</th>\n",
       "      <td>pulled pork</td>\n",
       "      <td>3.0</td>\n",
       "      <td>pig</td>\n",
       "    </tr>\n",
       "    <tr>\n",
       "      <th>2</th>\n",
       "      <td>bacon</td>\n",
       "      <td>12.0</td>\n",
       "      <td>pig</td>\n",
       "    </tr>\n",
       "    <tr>\n",
       "      <th>3</th>\n",
       "      <td>pastrami</td>\n",
       "      <td>6.0</td>\n",
       "      <td>cow</td>\n",
       "    </tr>\n",
       "    <tr>\n",
       "      <th>4</th>\n",
       "      <td>corned beef</td>\n",
       "      <td>7.5</td>\n",
       "      <td>cow</td>\n",
       "    </tr>\n",
       "    <tr>\n",
       "      <th>5</th>\n",
       "      <td>bacon</td>\n",
       "      <td>8.0</td>\n",
       "      <td>pig</td>\n",
       "    </tr>\n",
       "    <tr>\n",
       "      <th>6</th>\n",
       "      <td>pastrami</td>\n",
       "      <td>3.0</td>\n",
       "      <td>cow</td>\n",
       "    </tr>\n",
       "    <tr>\n",
       "      <th>7</th>\n",
       "      <td>honey ham</td>\n",
       "      <td>5.0</td>\n",
       "      <td>pig</td>\n",
       "    </tr>\n",
       "    <tr>\n",
       "      <th>8</th>\n",
       "      <td>nova lox</td>\n",
       "      <td>6.0</td>\n",
       "      <td>salmon</td>\n",
       "    </tr>\n",
       "  </tbody>\n",
       "</table>\n",
       "</div>"
      ],
      "text/plain": [
       "          food  ounces  animal\n",
       "0        bacon     4.0     pig\n",
       "1  pulled pork     3.0     pig\n",
       "2        bacon    12.0     pig\n",
       "3     pastrami     6.0     cow\n",
       "4  corned beef     7.5     cow\n",
       "5        bacon     8.0     pig\n",
       "6     pastrami     3.0     cow\n",
       "7    honey ham     5.0     pig\n",
       "8     nova lox     6.0  salmon"
      ]
     },
     "execution_count": 25,
     "metadata": {},
     "output_type": "execute_result"
    }
   ],
   "source": [
    "data"
   ]
  },
  {
   "cell_type": "markdown",
   "metadata": {},
   "source": [
    "Replacing Values"
   ]
  },
  {
   "cell_type": "code",
   "execution_count": 26,
   "metadata": {},
   "outputs": [],
   "source": [
    "data = pd.Series([1., -999., 2., -999., -1000., 3.])"
   ]
  },
  {
   "cell_type": "code",
   "execution_count": 27,
   "metadata": {},
   "outputs": [
    {
     "data": {
      "text/plain": [
       "0       1.0\n",
       "1       NaN\n",
       "2       2.0\n",
       "3       NaN\n",
       "4   -1000.0\n",
       "5       3.0\n",
       "dtype: float64"
      ]
     },
     "execution_count": 27,
     "metadata": {},
     "output_type": "execute_result"
    }
   ],
   "source": [
    "data.replace(-999,np.nan)"
   ]
  },
  {
   "cell_type": "code",
   "execution_count": 28,
   "metadata": {},
   "outputs": [
    {
     "data": {
      "text/plain": [
       "0    1.0\n",
       "1    NaN\n",
       "2    2.0\n",
       "3    NaN\n",
       "4    NaN\n",
       "5    3.0\n",
       "dtype: float64"
      ]
     },
     "execution_count": 28,
     "metadata": {},
     "output_type": "execute_result"
    }
   ],
   "source": [
    "data.replace([-999,-1000],np.nan)"
   ]
  },
  {
   "cell_type": "code",
   "execution_count": 29,
   "metadata": {},
   "outputs": [
    {
     "data": {
      "text/plain": [
       "0    1.0\n",
       "1    NaN\n",
       "2    2.0\n",
       "3    NaN\n",
       "4    0.0\n",
       "5    3.0\n",
       "dtype: float64"
      ]
     },
     "execution_count": 29,
     "metadata": {},
     "output_type": "execute_result"
    }
   ],
   "source": [
    "data.replace([-999, -1000], [np.nan, 0])"
   ]
  },
  {
   "cell_type": "code",
   "execution_count": 30,
   "metadata": {},
   "outputs": [
    {
     "data": {
      "text/plain": [
       "0    1.0\n",
       "1    NaN\n",
       "2    2.0\n",
       "3    NaN\n",
       "4    0.0\n",
       "5    3.0\n",
       "dtype: float64"
      ]
     },
     "execution_count": 30,
     "metadata": {},
     "output_type": "execute_result"
    }
   ],
   "source": [
    "data.replace({-999: np.nan, -1000: 0})"
   ]
  },
  {
   "cell_type": "markdown",
   "metadata": {},
   "source": [
    "Discretization and Binning"
   ]
  },
  {
   "cell_type": "code",
   "execution_count": 31,
   "metadata": {},
   "outputs": [],
   "source": [
    "ages = [20, 22, 25, 27, 21, 23, 37, 31, 61, 45, 41, 32]\n",
    "bins = [18, 25, 35, 60, 100]"
   ]
  },
  {
   "cell_type": "code",
   "execution_count": 32,
   "metadata": {},
   "outputs": [],
   "source": [
    "age_categories=pd.cut(ages,bins=bins)"
   ]
  },
  {
   "cell_type": "code",
   "execution_count": 33,
   "metadata": {},
   "outputs": [
    {
     "data": {
      "text/plain": [
       "[(18, 25], (18, 25], (18, 25], (25, 35], (18, 25], ..., (25, 35], (60, 100], (35, 60], (35, 60], (25, 35]]\n",
       "Length: 12\n",
       "Categories (4, interval[int64, right]): [(18, 25] < (25, 35] < (35, 60] < (60, 100]]"
      ]
     },
     "execution_count": 33,
     "metadata": {},
     "output_type": "execute_result"
    }
   ],
   "source": [
    "age_categories"
   ]
  },
  {
   "cell_type": "code",
   "execution_count": 34,
   "metadata": {},
   "outputs": [
    {
     "data": {
      "text/plain": [
       "array([0, 0, 0, 1, 0, 0, 2, 1, 3, 2, 2, 1], dtype=int8)"
      ]
     },
     "execution_count": 34,
     "metadata": {},
     "output_type": "execute_result"
    }
   ],
   "source": [
    "age_categories.codes"
   ]
  },
  {
   "cell_type": "code",
   "execution_count": 35,
   "metadata": {},
   "outputs": [
    {
     "name": "stderr",
     "output_type": "stream",
     "text": [
      "C:\\Users\\chall\\AppData\\Local\\Temp\\ipykernel_9192\\3010498523.py:1: FutureWarning: pandas.value_counts is deprecated and will be removed in a future version. Use pd.Series(obj).value_counts() instead.\n",
      "  pd.value_counts(age_categories)\n"
     ]
    },
    {
     "data": {
      "text/plain": [
       "(18, 25]     5\n",
       "(25, 35]     3\n",
       "(35, 60]     3\n",
       "(60, 100]    1\n",
       "Name: count, dtype: int64"
      ]
     },
     "execution_count": 35,
     "metadata": {},
     "output_type": "execute_result"
    }
   ],
   "source": [
    "pd.value_counts(age_categories)"
   ]
  },
  {
   "cell_type": "code",
   "execution_count": 36,
   "metadata": {},
   "outputs": [
    {
     "data": {
      "text/plain": [
       "[[18, 25), [18, 25), [25, 35), [25, 35), [18, 25), ..., [25, 35), [60, 100), [35, 60), [35, 60), [25, 35)]\n",
       "Length: 12\n",
       "Categories (4, interval[int64, left]): [[18, 25) < [25, 35) < [35, 60) < [60, 100)]"
      ]
     },
     "execution_count": 36,
     "metadata": {},
     "output_type": "execute_result"
    }
   ],
   "source": [
    "pd.cut(ages,bins,right=False)"
   ]
  },
  {
   "cell_type": "code",
   "execution_count": 37,
   "metadata": {},
   "outputs": [
    {
     "data": {
      "text/plain": [
       "[(18, 25], (18, 25], (18, 25], (25, 35], (18, 25], ..., (25, 35], (60, 100], (35, 60], (35, 60], (25, 35]]\n",
       "Length: 12\n",
       "Categories (4, interval[int64, right]): [(18, 25] < (25, 35] < (35, 60] < (60, 100]]"
      ]
     },
     "execution_count": 37,
     "metadata": {},
     "output_type": "execute_result"
    }
   ],
   "source": [
    "age_categories"
   ]
  },
  {
   "cell_type": "code",
   "execution_count": 38,
   "metadata": {},
   "outputs": [
    {
     "data": {
      "text/plain": [
       "['Youth', 'Youth', 'Youth', 'YoungAdult', 'Youth', ..., 'YoungAdult', 'Senior', 'MiddleAged', 'MiddleAged', 'YoungAdult']\n",
       "Length: 12\n",
       "Categories (4, object): ['Youth' < 'YoungAdult' < 'MiddleAged' < 'Senior']"
      ]
     },
     "execution_count": 38,
     "metadata": {},
     "output_type": "execute_result"
    }
   ],
   "source": [
    "pd.cut(ages,bins,labels= [\"Youth\", \"YoungAdult\", \"MiddleAged\", \"Senior\"])"
   ]
  },
  {
   "cell_type": "code",
   "execution_count": 39,
   "metadata": {},
   "outputs": [
    {
     "data": {
      "text/plain": [
       "Youth         5\n",
       "YoungAdult    3\n",
       "MiddleAged    3\n",
       "Senior        1\n",
       "Name: count, dtype: int64"
      ]
     },
     "execution_count": 39,
     "metadata": {},
     "output_type": "execute_result"
    }
   ],
   "source": [
    "pd.cut(ages,bins,labels= [\"Youth\", \"YoungAdult\", \"MiddleAged\", \"Senior\"]).value_counts()"
   ]
  },
  {
   "cell_type": "code",
   "execution_count": 40,
   "metadata": {},
   "outputs": [
    {
     "data": {
      "text/plain": [
       "(array([0.66143317, 0.90626426, 0.63005968, 0.85991801, 0.68831165,\n",
       "        0.56380843, 0.56636016, 0.84345366, 0.10137213, 0.23216966,\n",
       "        0.26329165, 0.3180835 , 0.97775864, 0.56525769, 0.46886986,\n",
       "        0.76720369, 0.84942163, 0.44772669, 0.55011078, 0.29022255]),\n",
       " 0.9777586399699281,\n",
       " 0.1013721290893368)"
      ]
     },
     "execution_count": 40,
     "metadata": {},
     "output_type": "execute_result"
    }
   ],
   "source": [
    "data = np.random.uniform(size=20)\n",
    "data,data.max(),data.min()"
   ]
  },
  {
   "cell_type": "code",
   "execution_count": 41,
   "metadata": {},
   "outputs": [
    {
     "data": {
      "text/plain": [
       "(0.1, 0.32]       5\n",
       "(0.32, 0.54]      2\n",
       "(0.54, 0.759]     7\n",
       "(0.759, 0.978]    6\n",
       "Name: count, dtype: int64"
      ]
     },
     "execution_count": 41,
     "metadata": {},
     "output_type": "execute_result"
    }
   ],
   "source": [
    "pd.cut(data,4).value_counts()\n",
    "#4 indicates to compute 4 no.of equal bins"
   ]
  },
  {
   "cell_type": "code",
   "execution_count": 42,
   "metadata": {},
   "outputs": [
    {
     "data": {
      "text/plain": [
       "array([ 6.94468054e-01, -2.74234686e-01,  1.72113314e+00, -1.06132085e+00,\n",
       "       -1.93517179e-01,  2.81820073e-01, -3.94587997e-01, -6.16756126e-01,\n",
       "        1.67622340e+00,  8.60048384e-01,  1.56415314e-02, -3.91483767e-01,\n",
       "        1.46959530e+00, -1.38588171e+00, -1.04422012e+00, -9.34403290e-01,\n",
       "       -1.77867059e+00,  1.38629160e-01,  3.90975301e-01, -1.79292796e+00,\n",
       "       -1.56821326e+00,  2.02872690e+00, -4.50314478e-01, -5.71672430e-01,\n",
       "       -1.28062802e+00,  8.19769108e-01,  4.07291786e-01, -3.37005907e-01,\n",
       "       -2.45812328e-01,  4.42142935e-01,  2.87192320e-01,  7.69149631e-01,\n",
       "        2.10249126e-01, -1.30316519e+00, -2.22702158e-02, -3.02375240e-01,\n",
       "        5.98614753e-01, -1.75689702e-02,  8.39515529e-01,  1.37465153e+00,\n",
       "        7.74182851e-01, -1.73506460e+00, -1.62356907e+00,  5.54343277e-01,\n",
       "       -1.53381227e+00, -1.57858979e+00,  8.17626257e-01,  4.35396113e-03,\n",
       "        2.05468228e-01,  9.64401064e-01, -6.11055594e-02, -1.47536352e+00,\n",
       "       -1.95988628e-01, -1.70240513e-01,  4.92131024e-01,  1.21746213e+00,\n",
       "       -7.90353292e-01,  1.18921891e+00,  1.66664410e+00, -1.41873017e+00,\n",
       "       -1.11408188e+00, -8.69128571e-01, -2.49605499e+00,  7.02542168e-01,\n",
       "        1.22611827e+00,  1.14346594e+00, -6.38846616e-01,  1.55062679e+00,\n",
       "        3.12121100e-01,  6.81363950e-01,  8.92084332e-01,  2.15685745e-01,\n",
       "       -2.35213928e+00, -1.99406098e+00, -6.25193496e-01, -3.00403361e-01,\n",
       "       -1.62227769e+00, -1.22402021e+00, -9.19922347e-01,  1.45579876e+00,\n",
       "       -4.58808279e-02, -5.57163704e-01,  6.53694180e-01,  1.75033782e+00,\n",
       "        4.88147118e-01, -4.99435295e-01, -9.30663259e-01,  9.16567635e-02,\n",
       "        7.73046148e-01, -8.20707956e-01,  3.33800667e-02,  7.31606847e-02,\n",
       "       -9.30899088e-01,  7.12017310e-01, -1.38640504e+00,  1.29904408e+00,\n",
       "        1.16463464e+00,  1.50915972e+00, -4.85901887e-02, -5.55023431e-01,\n",
       "        3.55951690e-01,  5.53533902e-01,  4.89291064e-01,  1.77819810e-01,\n",
       "       -5.85452158e-01, -1.43678210e+00, -1.83423200e-01, -1.68646590e+00,\n",
       "       -1.25582401e+00,  1.06135816e+00, -9.51160091e-01,  6.05141425e-02,\n",
       "        3.53694438e-01, -9.14408171e-02, -1.15536725e+00, -1.56603458e+00,\n",
       "       -1.20906184e+00, -6.71200461e-01, -5.02000566e-01, -7.57006373e-02,\n",
       "       -1.06604499e+00, -4.17091300e-01, -6.55314866e-01, -3.45996314e-01,\n",
       "        2.09616687e-01,  1.20637481e-01,  5.99453196e-01, -2.11601165e+00,\n",
       "       -2.36705211e+00,  7.00114524e-01, -1.20675557e+00, -2.46816795e+00,\n",
       "        1.26042626e+00,  1.51104948e+00,  4.53590172e-01,  2.28416901e-01,\n",
       "        2.58141486e-01,  1.83349905e+00,  2.09108025e-01, -1.02969839e-01,\n",
       "        5.70444799e-01, -2.19532987e+00,  1.58975373e+00,  9.79596818e-02,\n",
       "        2.99941662e-01,  2.40179540e-01,  3.11500617e-01,  1.19237878e+00,\n",
       "       -9.80985998e-01,  4.60164218e-01, -1.67567520e-01, -1.69087028e-01,\n",
       "        2.27156304e-01, -1.89178137e+00, -6.45987590e-01,  8.68460198e-01,\n",
       "        1.73591138e+00,  4.37588093e-01,  7.07408003e-01, -7.25222906e-01,\n",
       "        2.83569951e-01, -1.24967982e+00, -7.61283525e-01,  2.42571174e-01,\n",
       "       -2.84292015e-01,  5.39535316e-01,  2.15361507e+00,  6.13455129e-01,\n",
       "        6.03514232e-01, -1.06535746e+00,  2.25201773e+00, -6.17928516e-02,\n",
       "       -1.12544709e+00,  1.72308777e+00, -7.07228696e-02,  5.89791009e-01,\n",
       "       -8.84305245e-01, -1.91778388e+00, -1.26094189e+00, -3.21239260e-01,\n",
       "        1.92578265e+00, -4.54811384e-01,  3.08503047e-02,  7.11288394e-03,\n",
       "        1.80938279e+00,  3.16388568e-01,  5.46170550e-01, -7.32029940e-01,\n",
       "        1.42606903e+00, -3.44361875e-01, -1.40245405e-01, -1.75829671e-01,\n",
       "        2.96574641e-01,  3.49698958e-02, -9.78681810e-02,  1.92141066e+00,\n",
       "       -9.16753063e-01,  1.54028761e+00, -1.25376658e+00,  9.38541996e-01,\n",
       "        1.77337234e+00, -8.41075075e-01, -1.68865807e-01,  1.53852129e-01,\n",
       "        1.32881896e+00, -3.43267458e-01,  7.28634775e-01,  1.68357493e+00,\n",
       "        1.67242253e+00,  4.32386066e-02,  2.26000630e+00,  2.69545825e-01,\n",
       "       -5.41994881e-02, -6.23431251e-01,  6.17616260e-01, -1.57265782e+00,\n",
       "        6.85158728e-01,  5.16695739e-01,  4.90283353e-01,  9.07839679e-01,\n",
       "        2.18502349e+00, -2.20185406e-01, -1.17729341e+00,  8.62369261e-01,\n",
       "       -8.54972702e-01, -9.81268743e-01, -1.41731491e+00,  1.02976099e+00,\n",
       "        2.93079064e-01,  3.03979574e-01, -3.27501612e-01, -7.30362820e-01,\n",
       "       -1.80027765e-01,  1.48959457e-01, -5.78665113e-01, -4.26813031e-01,\n",
       "        1.01340058e+00, -2.76419048e+00,  5.63125763e-01, -1.06227153e+00,\n",
       "        1.15462683e-01,  7.68225424e-01,  1.25397604e-02, -1.15467043e+00,\n",
       "        8.41232010e-03, -1.75897039e-01, -7.70240751e-02,  1.91427802e+00,\n",
       "       -2.53239580e-01,  1.05247600e+00, -6.12254872e-01,  1.98251138e+00,\n",
       "       -1.04396705e+00, -3.79458744e-01,  2.02576540e+00,  1.28149133e+00,\n",
       "       -8.49653498e-01, -1.17525967e-01,  1.42451232e+00,  9.73523759e-01,\n",
       "        2.34828061e-02, -5.34129180e-01,  1.92282151e+00,  1.08685126e-01,\n",
       "       -3.02417335e-01,  3.53522226e-01,  1.16664997e+00,  5.92369930e-01,\n",
       "        2.92259447e-02,  4.62596333e-01,  5.50750294e-01,  6.58458545e-01,\n",
       "        2.00581699e+00, -1.94120732e+00,  1.81490845e-01,  6.25680291e-01,\n",
       "       -2.29726149e+00, -1.20581704e+00, -1.12326459e+00, -1.64207770e-01,\n",
       "        5.19030324e-02,  3.78968901e-01, -9.00699638e-01,  1.40788169e+00,\n",
       "       -1.35265351e+00,  1.92129131e+00, -8.10802710e-01, -4.75292877e-01,\n",
       "       -1.36947098e+00, -1.35397044e+00,  8.04219590e-01, -7.07444161e-01,\n",
       "       -3.04552017e-01,  1.46916608e+00, -8.38734703e-01, -9.02771251e-01,\n",
       "        4.97859227e-01,  9.70093868e-01,  3.23924647e-01,  1.57804042e+00,\n",
       "       -6.12438490e-01,  1.21960627e-01,  1.32808689e+00,  1.84747718e+00,\n",
       "       -4.11436610e-01,  5.18063839e-01, -2.11207955e-02,  1.35671855e+00,\n",
       "       -2.54478447e-01,  1.71438024e+00,  6.80351509e-01, -5.72726945e-01,\n",
       "        6.72696280e-01,  6.14747025e-01,  1.09315537e+00, -1.34520720e-01,\n",
       "        1.57469451e+00, -9.84033937e-02, -7.98823521e-01,  7.82198792e-01,\n",
       "        1.71196304e+00, -9.39700858e-01,  4.17018516e-01, -5.24601390e-01,\n",
       "       -6.25988555e-01, -1.21868631e+00, -1.04324259e+00, -8.43590464e-01,\n",
       "        8.89406789e-01, -2.15275323e+00, -6.93274402e-03,  1.75673598e+00,\n",
       "        1.92392114e-01, -5.52444390e-01, -1.41113434e-01, -3.70211741e-01,\n",
       "       -1.74589907e+00, -1.87596464e+00,  1.14432741e-01,  8.83066174e-01,\n",
       "       -1.71667334e+00,  2.63813297e-01, -1.15904654e+00,  6.69823963e-01,\n",
       "       -3.57197523e-01, -1.11825264e+00,  5.17448053e-01, -8.66110309e-01,\n",
       "       -1.06604238e+00, -3.25746133e-01,  2.14843292e+00,  1.26058763e+00,\n",
       "        5.10975259e-02,  2.07337730e-01,  1.96067527e+00, -3.79409557e-01,\n",
       "        1.37673919e+00, -9.52999413e-01, -6.01462436e-03, -1.08615834e+00,\n",
       "        1.14736000e+00,  3.11473800e-01,  4.36231582e-01,  1.01828823e+00,\n",
       "       -1.17879828e-01, -6.19244810e-01,  9.78357047e-02,  8.04881957e-01,\n",
       "       -2.21186852e-01,  1.94115571e-01,  5.25710976e-02,  1.99305703e-01,\n",
       "       -4.12191367e-01, -8.96825094e-01, -1.13050764e+00, -3.55983717e-01,\n",
       "       -5.28857045e-01, -4.50009912e-02, -3.40378631e-01,  6.31291200e-01,\n",
       "       -1.04795034e+00,  1.51269516e+00,  1.01332420e+00,  5.04780287e-01,\n",
       "        2.70939037e-01, -1.20490743e+00, -5.47244972e-01, -1.75900033e-01,\n",
       "        6.63911801e-01,  1.72005083e-01, -4.98437278e-01,  4.53700954e-01,\n",
       "        8.42405312e-01,  7.73435602e-01,  3.92019747e-02,  6.37159720e-01,\n",
       "        1.07795836e+00,  2.50234123e-01, -7.17673251e-01, -9.04445640e-01,\n",
       "       -4.11579657e-01,  1.48504011e+00, -4.54209096e-03,  2.12504220e-01,\n",
       "        5.20617839e-03, -8.02517350e-01, -1.14505119e+00, -1.16397068e+00,\n",
       "       -7.92579572e-01, -5.48445798e-01,  9.21799883e-01, -8.07260704e-01,\n",
       "       -2.89514755e-01, -3.07709167e+00,  6.34025993e-01,  1.18231073e+00,\n",
       "       -1.32095899e+00,  6.02422686e-01, -2.39326386e-01, -2.22589606e-01,\n",
       "        2.05605716e-01,  6.79272711e-01, -1.80169145e+00, -2.51485011e+00,\n",
       "        6.22949329e-01, -7.14191474e-01, -1.25908704e+00, -3.29746665e-01,\n",
       "        9.39672263e-01, -1.51121267e-01, -7.77188210e-01,  8.94614344e-01,\n",
       "       -1.17171488e+00, -7.73752495e-01, -1.76248195e+00, -5.51202825e-01,\n",
       "        1.46775228e-01, -4.07423862e-01, -2.20016830e+00,  3.50120446e-01,\n",
       "        1.00757696e+00,  7.16213298e-01, -1.54754521e+00, -4.95104778e-01,\n",
       "        5.37652619e-01,  9.72951058e-02,  6.55784942e-01,  4.83673056e-02,\n",
       "       -4.47124563e-01,  4.23272852e-01, -1.19797448e+00, -1.64777938e-01,\n",
       "       -4.20609500e-01, -8.84595892e-01, -1.65257360e+00,  1.69782448e-01,\n",
       "        6.06352331e-01, -7.49356559e-01, -1.76164443e-01, -1.37819489e+00,\n",
       "        1.12840111e+00, -6.62144273e-01,  1.15973529e+00,  3.31408033e-01,\n",
       "       -6.72883794e-01,  1.41964060e+00,  1.40972212e+00, -3.00769002e-01,\n",
       "       -1.33765112e+00,  6.42795234e-01,  7.04155667e-01, -4.85814268e-01,\n",
       "       -4.86742885e-01,  1.16223015e-01, -2.88309347e-01,  7.51459382e-01,\n",
       "        3.03509636e-02, -5.84672410e-01,  7.00714058e-01,  2.96437152e-01,\n",
       "        4.52513364e-01, -3.41975115e-01,  3.36611741e-01,  1.14187716e+00,\n",
       "        9.65990210e-01, -1.51980271e+00, -1.44389839e+00,  9.97593228e-01,\n",
       "       -3.04067529e+00, -4.25004776e-01, -1.18151750e-01,  6.55985082e-01,\n",
       "       -1.36906126e+00, -2.82618551e-01,  6.63534273e-01, -1.11772831e+00,\n",
       "       -1.26115006e+00, -1.37107217e+00, -5.83619998e-01,  7.02749671e-01,\n",
       "        1.50556942e+00,  4.98779714e-01,  1.64239669e+00, -7.78365120e-01,\n",
       "        3.31759656e-01,  6.81335339e-01, -4.59741131e-01, -4.96543220e-01,\n",
       "       -1.07058225e-01, -1.73215288e+00, -1.11407721e-01,  5.70984959e-01,\n",
       "       -2.28804203e-02,  8.67213281e-01, -1.58404789e+00,  4.12196976e-01,\n",
       "        1.58598899e+00,  1.34140597e+00,  5.48848861e-01,  1.25591879e+00,\n",
       "        2.39755711e+00, -1.28969761e+00,  1.52505885e+00,  1.37062046e+00,\n",
       "       -1.31699953e-01, -5.32521166e-01, -1.09406948e+00, -2.13304526e+00,\n",
       "        8.77553659e-01,  6.86833340e-01, -1.33859122e+00, -7.25222239e-01,\n",
       "        3.12563593e-01, -1.39700200e+00,  7.63534722e-01, -2.30496979e-01,\n",
       "        4.38263762e-01,  1.09030675e+00, -1.12945995e+00, -2.19541236e+00,\n",
       "        9.31580027e-01,  3.24239372e-01, -1.53199371e+00, -7.52458252e-01,\n",
       "        1.84298519e+00, -8.82179441e-01,  1.28319778e+00, -1.64615780e+00,\n",
       "       -1.63201653e-01,  1.09193239e-01,  8.24197083e-01,  7.36619980e-02,\n",
       "        1.36132806e+00, -1.05887027e+00, -1.93201442e+00,  6.20244793e-01,\n",
       "       -2.26899368e+00, -1.95865741e+00,  4.52002511e-01, -1.21871267e-01,\n",
       "       -2.26624407e+00,  1.51643472e+00,  9.42062951e-01, -1.81686086e+00,\n",
       "        1.09693101e-01, -5.90908208e-01, -1.34140793e+00,  3.56080565e-01,\n",
       "       -5.61607282e-01,  6.31644279e-01, -6.33486454e-01, -1.45185500e+00,\n",
       "       -7.54300837e-01,  8.95083513e-01,  2.29291425e-01,  1.36110432e-02,\n",
       "       -1.22824085e+00,  1.81698985e-01, -1.09113006e+00, -3.35961854e-01,\n",
       "        9.63321013e-01, -1.63069775e-01,  8.34914069e-01,  1.22698189e+00,\n",
       "       -1.78824696e+00,  1.22883890e+00,  3.29389696e-01,  1.17292407e+00,\n",
       "       -1.32897693e+00, -2.52733255e-01,  4.21971101e-01,  7.75547824e-01,\n",
       "        1.68100039e+00, -2.93981665e-01, -8.07985205e-01,  1.20267018e+00,\n",
       "       -1.61292412e+00, -3.52909351e-01,  5.82560236e-01, -5.12261179e-01,\n",
       "        3.91355137e-01,  1.09049585e+00, -5.27921302e-01,  2.54474072e-01,\n",
       "        4.05100102e-01, -1.10892018e+00,  8.26886280e-01, -9.56180606e-02,\n",
       "        1.31413570e-01, -1.42486093e-02,  5.02005968e-01, -9.15994301e-01,\n",
       "        2.48290221e-02, -1.25791084e+00, -9.59126720e-01, -1.16362426e-02,\n",
       "       -3.44190599e-01, -1.20030787e+00,  2.08355742e+00,  4.89874868e-01,\n",
       "       -5.83027795e-01,  2.16705015e+00, -1.31610142e+00,  2.74347319e+00,\n",
       "       -2.80102945e-01, -8.47830967e-01,  7.18241128e-01, -2.03190849e-01,\n",
       "        8.12779987e-01,  1.46190461e+00,  5.61574779e-01,  2.97974716e-01,\n",
       "       -2.46186885e+00,  1.42142348e+00, -1.88029170e+00, -7.01620437e-01,\n",
       "        6.92479916e-01,  4.21732366e-01,  4.11974836e-01, -4.85662770e-01,\n",
       "       -1.58448288e+00, -1.83388169e+00,  5.49677514e-01,  1.40486683e+00,\n",
       "        1.17956616e+00,  7.79261790e-01,  2.54462406e-01, -1.47503689e+00,\n",
       "        1.17983692e+00,  7.94900676e-01,  1.70467728e-01,  7.96023319e-01,\n",
       "        5.68323268e-01,  9.58934284e-01, -7.65164208e-01,  1.08538756e+00,\n",
       "        1.54704940e+00, -1.26164843e-01, -5.54904871e-01,  1.39490563e+00,\n",
       "       -8.00493606e-01,  7.46829664e-01, -5.55096654e-01,  6.52560021e-01,\n",
       "        8.35750236e-01,  2.90837603e-01, -1.57666393e+00,  1.44768276e+00,\n",
       "       -4.27906440e-01, -8.41325459e-01,  3.78218854e-01, -1.89383236e-01,\n",
       "       -1.18991334e+00,  1.05836799e+00, -1.08711624e-02, -3.48437495e-01,\n",
       "        7.47715881e-01, -6.21698971e-02, -1.26992803e+00,  3.70315760e-02,\n",
       "       -8.80947669e-01,  6.49217697e-02,  1.00858762e+00,  2.25719786e-01,\n",
       "       -1.66455533e-01,  1.78453977e+00, -5.29609627e-01, -4.83067924e-02,\n",
       "        3.35239560e-01, -9.43089184e-03,  3.85645147e-01, -1.27711142e+00,\n",
       "       -8.91677273e-01, -1.59904608e-01, -1.07418185e+00,  3.43911603e-01,\n",
       "       -1.54327577e-01, -1.23775737e-01, -1.18853342e+00, -1.19450491e+00,\n",
       "       -4.55485812e-01,  3.25577659e-01,  2.09877447e-01,  1.42960460e+00,\n",
       "        2.78267331e-01,  5.82688864e-01,  1.34027616e+00, -6.08299187e-01,\n",
       "       -1.31811487e+00, -1.00039594e+00, -4.60890898e-01,  7.02446442e-01,\n",
       "       -1.05697979e+00, -2.52938695e+00,  6.17268576e-02,  1.82139405e-01,\n",
       "       -1.57765423e+00, -1.38331259e+00, -4.39671438e-01,  5.65840116e-02,\n",
       "        5.33577709e-01, -9.19781738e-01, -1.30219902e+00,  2.02475825e-01,\n",
       "        6.40380756e-01, -1.24092316e+00,  1.43702578e+00, -8.74062843e-01,\n",
       "        1.84888106e+00, -1.04664750e+00, -4.17604043e-01,  6.74188200e-01,\n",
       "       -3.10503616e-01,  1.21444285e+00, -3.61665137e-01,  1.34145107e+00,\n",
       "        7.18292393e-01, -6.79023835e-02, -2.23982204e-01,  4.43550049e-02,\n",
       "       -1.52618337e+00, -1.05361493e-01,  5.33547704e-01, -1.68316824e+00,\n",
       "        1.52756480e+00,  4.87156636e-01, -1.23069959e+00,  2.05534504e+00,\n",
       "       -3.22077074e-01,  1.52191843e-01, -3.17070834e-01,  2.04089985e-01,\n",
       "       -2.97236225e-01,  1.37869628e+00,  1.81791521e-01, -3.57730072e-01,\n",
       "        8.90406685e-01, -5.69167103e-01,  1.44118839e-01, -9.51867133e-01,\n",
       "        1.41106513e+00, -2.00011767e+00,  3.52712219e-01, -2.68756098e-01,\n",
       "       -1.11434764e+00, -1.27981204e+00, -2.51067422e-01, -9.57834103e-01,\n",
       "        1.19787739e+00, -1.02882337e+00, -3.95785840e-01, -4.87790710e-01,\n",
       "        2.75529051e+00, -1.17677033e+00, -2.36606528e-03,  3.31493951e-01,\n",
       "        4.95595979e-01,  3.25349875e-01,  8.48269558e-02,  8.32929327e-01,\n",
       "       -2.11918426e-04, -6.94498864e-01,  9.13623742e-01, -5.85506789e-01,\n",
       "       -1.05721532e+00, -5.41958535e-01, -4.24432947e-01,  1.91140268e+00,\n",
       "       -2.80301352e-01, -6.44051960e-01, -2.09700652e-01,  5.65520335e-01,\n",
       "       -2.34184019e-03,  1.19490897e+00,  1.95570739e-01,  1.36442914e+00,\n",
       "        8.78676029e-01,  7.01372962e-01,  1.20033477e-01, -7.03835504e-01,\n",
       "       -3.19943977e-01, -3.71682304e-01,  1.59796381e+00,  3.03781394e-01,\n",
       "       -7.69917622e-01, -7.81274597e-01,  3.64541498e-01,  8.45264451e-02,\n",
       "       -9.50839949e-01,  1.18498921e+00, -3.29748359e-01, -1.39484496e+00,\n",
       "        2.08011916e-01,  7.90873767e-01, -1.20479775e+00, -4.24480546e-01,\n",
       "       -1.26370000e+00,  5.44971627e-02,  1.68399958e+00,  7.44342737e-01,\n",
       "        3.68035434e-01,  7.59098253e-01,  4.41182332e-01,  1.43015078e+00,\n",
       "        5.72676571e-01,  9.04572600e-01, -1.68863514e+00, -3.28521589e-01,\n",
       "       -7.33288584e-01,  3.67375341e-01,  2.90418007e-01,  5.69988971e-01,\n",
       "       -2.81395618e-01,  3.85893339e-01, -1.59213105e+00, -7.53918990e-01,\n",
       "       -7.09329314e-01,  2.24520615e-01,  9.58202455e-01,  1.02941796e-01,\n",
       "        1.02785075e+00,  4.09966975e-01, -2.57548617e-01,  7.35666140e-01,\n",
       "       -1.09242156e+00, -1.29663406e+00,  9.98203692e-01, -2.53090406e+00,\n",
       "        1.70884263e+00, -3.26164667e-01, -1.06606621e+00, -1.38911103e+00,\n",
       "       -3.97518039e-01, -3.64165584e-01,  9.13424736e-01,  4.19120240e-01,\n",
       "        1.72611234e+00,  8.59614541e-01,  7.54258042e-01, -1.15325475e+00,\n",
       "       -4.15626144e-02,  1.19737669e+00, -6.90920694e-01, -4.00405061e-01,\n",
       "        2.15774850e+00, -8.09198238e-01,  7.30708725e-01,  1.16388599e-01,\n",
       "       -2.21412496e+00,  1.21293562e+00, -3.86970889e-01, -5.80765348e-01,\n",
       "       -7.80337809e-02,  6.57435891e-02, -1.05145350e+00,  4.08745708e-01,\n",
       "        5.16183623e-01,  1.09415081e+00, -7.46094197e-01, -1.77824726e-01,\n",
       "       -6.84561940e-01, -7.21438824e-01, -1.48670392e+00,  1.33120900e+00,\n",
       "        4.66469794e-01, -7.92112109e-01,  3.49943768e-01, -9.55617098e-01,\n",
       "       -1.54963379e+00,  1.01253489e+00,  4.24378566e-01, -2.18721606e+00,\n",
       "        6.31946524e-01, -2.28215214e+00, -1.91998490e+00, -4.38778787e-01,\n",
       "       -1.48248291e+00,  1.30710019e-02, -1.07377351e-01, -6.83496484e-01,\n",
       "       -8.27095957e-01, -1.08781109e+00, -5.12631068e-02,  1.57061546e+00,\n",
       "       -7.96724684e-01,  2.88611752e-01,  4.92204464e-01, -3.90478496e-01,\n",
       "       -1.92176413e+00, -5.91561631e-01,  8.98599027e-02,  1.39355743e+00,\n",
       "        6.75242032e-01, -1.83341409e+00,  1.82355577e+00,  1.24280190e-01,\n",
       "       -1.78167250e+00,  5.07985314e-01, -1.59710886e-01,  7.70874240e-01,\n",
       "        1.66923707e+00,  5.33649084e-01, -3.26516645e-01, -3.55792873e-02,\n",
       "        2.36618220e-01, -2.45828064e+00, -2.85175202e-01,  1.20729945e+00,\n",
       "       -6.03564128e-01, -7.25829125e-01,  7.51593562e-02, -5.16596004e-01,\n",
       "        1.25725780e+00,  8.62161109e-02, -2.06784947e+00,  1.94652092e-01,\n",
       "       -1.89459778e+00, -1.39065666e+00,  9.77201480e-02,  4.83140274e-01,\n",
       "        2.11407553e-02, -5.38369180e-01,  2.05986443e-01, -3.81680357e-01,\n",
       "       -3.07928067e-01, -3.42776237e-01, -2.10494323e+00, -1.24266994e+00,\n",
       "        3.60807222e-01, -3.59214546e-01,  8.19934048e-01, -2.30310743e-01,\n",
       "       -3.71231158e-01,  1.96733338e+00, -1.23504703e+00, -6.06724325e-02,\n",
       "        2.17509974e-01,  1.36738952e-01, -1.46349962e+00,  1.03599552e+00,\n",
       "       -2.43490050e-01, -5.18099158e-01, -1.08560962e+00, -3.36926857e-01,\n",
       "       -2.18975915e+00, -4.14593545e-01, -8.30749886e-01, -1.64327761e-01,\n",
       "       -2.08257832e+00, -9.05602361e-01,  1.76239611e-01,  4.92459755e-01,\n",
       "        4.34013831e-01,  5.03949092e-02, -1.13833860e+00, -3.53199938e-01,\n",
       "       -3.40625958e-01,  1.25178911e+00, -7.18574183e-01,  1.38302982e+00,\n",
       "        1.11496790e+00, -2.02453337e-01, -3.39478930e-01, -5.08839128e-01,\n",
       "        4.59445298e-01, -5.79290278e-02, -5.32244067e-01,  4.41175136e-01,\n",
       "       -5.26758613e-01, -1.96708642e+00,  1.20725749e+00,  1.84152574e-01,\n",
       "        7.65970429e-01, -1.00435843e+00, -3.28186830e-01, -6.74415175e-01,\n",
       "        7.75167009e-01,  9.50010797e-01, -4.32342301e-01, -5.73252335e-01])"
      ]
     },
     "execution_count": 42,
     "metadata": {},
     "output_type": "execute_result"
    }
   ],
   "source": [
    "data = np.random.standard_normal(1000)\n",
    "data"
   ]
  },
  {
   "cell_type": "code",
   "execution_count": 43,
   "metadata": {},
   "outputs": [
    {
     "data": {
      "text/plain": [
       "[(0.65, 2.76], (-0.73, -0.011], (0.65, 2.76], (-3.09, -0.73], (-0.73, -0.011], ..., (-0.73, -0.011], (0.65, 2.76], (0.65, 2.76], (-0.73, -0.011], (-0.73, -0.011]]\n",
       "Length: 1000\n",
       "Categories (4, interval[float64, right]): [(-3.09, -0.73] < (-0.73, -0.011] < (-0.011, 0.65] < (0.65, 2.76]]"
      ]
     },
     "execution_count": 43,
     "metadata": {},
     "output_type": "execute_result"
    }
   ],
   "source": [
    "pd.qcut(data, 4, precision=2)"
   ]
  },
  {
   "cell_type": "code",
   "execution_count": 44,
   "metadata": {},
   "outputs": [
    {
     "data": {
      "text/plain": [
       "(-3.09, -0.73]     250\n",
       "(-0.73, -0.011]    250\n",
       "(-0.011, 0.65]     250\n",
       "(0.65, 2.76]       250\n",
       "Name: count, dtype: int64"
      ]
     },
     "execution_count": 44,
     "metadata": {},
     "output_type": "execute_result"
    }
   ],
   "source": [
    "pd.qcut(data, 4, precision=2).value_counts()#pandas qcut() gives us equal bins base don quartiles"
   ]
  },
  {
   "cell_type": "code",
   "execution_count": 45,
   "metadata": {},
   "outputs": [],
   "source": [
    "df = pd.DataFrame({\"key\": [\"b\", \"b\", \"a\", \"c\", \"a\", \"b\"],                   \n",
    "\"data1\": range(6)})"
   ]
  },
  {
   "cell_type": "code",
   "execution_count": 46,
   "metadata": {},
   "outputs": [
    {
     "data": {
      "text/html": [
       "<div>\n",
       "<style scoped>\n",
       "    .dataframe tbody tr th:only-of-type {\n",
       "        vertical-align: middle;\n",
       "    }\n",
       "\n",
       "    .dataframe tbody tr th {\n",
       "        vertical-align: top;\n",
       "    }\n",
       "\n",
       "    .dataframe thead th {\n",
       "        text-align: right;\n",
       "    }\n",
       "</style>\n",
       "<table border=\"1\" class=\"dataframe\">\n",
       "  <thead>\n",
       "    <tr style=\"text-align: right;\">\n",
       "      <th></th>\n",
       "      <th>key</th>\n",
       "      <th>data1</th>\n",
       "    </tr>\n",
       "  </thead>\n",
       "  <tbody>\n",
       "    <tr>\n",
       "      <th>0</th>\n",
       "      <td>b</td>\n",
       "      <td>0</td>\n",
       "    </tr>\n",
       "    <tr>\n",
       "      <th>1</th>\n",
       "      <td>b</td>\n",
       "      <td>1</td>\n",
       "    </tr>\n",
       "    <tr>\n",
       "      <th>2</th>\n",
       "      <td>a</td>\n",
       "      <td>2</td>\n",
       "    </tr>\n",
       "    <tr>\n",
       "      <th>3</th>\n",
       "      <td>c</td>\n",
       "      <td>3</td>\n",
       "    </tr>\n",
       "    <tr>\n",
       "      <th>4</th>\n",
       "      <td>a</td>\n",
       "      <td>4</td>\n",
       "    </tr>\n",
       "    <tr>\n",
       "      <th>5</th>\n",
       "      <td>b</td>\n",
       "      <td>5</td>\n",
       "    </tr>\n",
       "  </tbody>\n",
       "</table>\n",
       "</div>"
      ],
      "text/plain": [
       "  key  data1\n",
       "0   b      0\n",
       "1   b      1\n",
       "2   a      2\n",
       "3   c      3\n",
       "4   a      4\n",
       "5   b      5"
      ]
     },
     "execution_count": 46,
     "metadata": {},
     "output_type": "execute_result"
    }
   ],
   "source": [
    "df"
   ]
  },
  {
   "cell_type": "code",
   "execution_count": 48,
   "metadata": {},
   "outputs": [
    {
     "data": {
      "text/html": [
       "<div>\n",
       "<style scoped>\n",
       "    .dataframe tbody tr th:only-of-type {\n",
       "        vertical-align: middle;\n",
       "    }\n",
       "\n",
       "    .dataframe tbody tr th {\n",
       "        vertical-align: top;\n",
       "    }\n",
       "\n",
       "    .dataframe thead th {\n",
       "        text-align: right;\n",
       "    }\n",
       "</style>\n",
       "<table border=\"1\" class=\"dataframe\">\n",
       "  <thead>\n",
       "    <tr style=\"text-align: right;\">\n",
       "      <th></th>\n",
       "      <th>a</th>\n",
       "      <th>b</th>\n",
       "      <th>c</th>\n",
       "    </tr>\n",
       "  </thead>\n",
       "  <tbody>\n",
       "    <tr>\n",
       "      <th>0</th>\n",
       "      <td>False</td>\n",
       "      <td>True</td>\n",
       "      <td>False</td>\n",
       "    </tr>\n",
       "    <tr>\n",
       "      <th>1</th>\n",
       "      <td>False</td>\n",
       "      <td>True</td>\n",
       "      <td>False</td>\n",
       "    </tr>\n",
       "    <tr>\n",
       "      <th>2</th>\n",
       "      <td>True</td>\n",
       "      <td>False</td>\n",
       "      <td>False</td>\n",
       "    </tr>\n",
       "    <tr>\n",
       "      <th>3</th>\n",
       "      <td>False</td>\n",
       "      <td>False</td>\n",
       "      <td>True</td>\n",
       "    </tr>\n",
       "    <tr>\n",
       "      <th>4</th>\n",
       "      <td>True</td>\n",
       "      <td>False</td>\n",
       "      <td>False</td>\n",
       "    </tr>\n",
       "    <tr>\n",
       "      <th>5</th>\n",
       "      <td>False</td>\n",
       "      <td>True</td>\n",
       "      <td>False</td>\n",
       "    </tr>\n",
       "  </tbody>\n",
       "</table>\n",
       "</div>"
      ],
      "text/plain": [
       "       a      b      c\n",
       "0  False   True  False\n",
       "1  False   True  False\n",
       "2   True  False  False\n",
       "3  False  False   True\n",
       "4   True  False  False\n",
       "5  False   True  False"
      ]
     },
     "execution_count": 48,
     "metadata": {},
     "output_type": "execute_result"
    }
   ],
   "source": [
    "pd.get_dummies(df['key'])"
   ]
  },
  {
   "cell_type": "code",
   "execution_count": null,
   "metadata": {},
   "outputs": [],
   "source": []
  }
 ],
 "metadata": {
  "kernelspec": {
   "display_name": "Python 3",
   "language": "python",
   "name": "python3"
  },
  "language_info": {
   "codemirror_mode": {
    "name": "ipython",
    "version": 3
   },
   "file_extension": ".py",
   "mimetype": "text/x-python",
   "name": "python",
   "nbconvert_exporter": "python",
   "pygments_lexer": "ipython3",
   "version": "3.12.3"
  }
 },
 "nbformat": 4,
 "nbformat_minor": 2
}
